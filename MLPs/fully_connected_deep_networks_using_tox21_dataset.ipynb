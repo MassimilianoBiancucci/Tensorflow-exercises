{
  "nbformat": 4,
  "nbformat_minor": 0,
  "metadata": {
    "colab": {
      "name": "fully_connected_deep_networks_using_tox21_dataset.ipynb",
      "version": "0.3.2",
      "provenance": [],
      "include_colab_link": true
    },
    "kernelspec": {
      "name": "python3",
      "display_name": "Python 3"
    }
  },
  "cells": [
    {
      "cell_type": "markdown",
      "metadata": {
        "id": "view-in-github",
        "colab_type": "text"
      },
      "source": [
        "<a href=\"https://colab.research.google.com/github/MassimilianoBiancucci/Tensorflow-exercises/blob/master/MLPs/fully_connected_deep_networks_using_tox21_dataset.ipynb\" target=\"_parent\"><img src=\"https://colab.research.google.com/assets/colab-badge.svg\" alt=\"Open In Colab\"/></a>"
      ]
    },
    {
      "metadata": {
        "id": "407WW85KfoG4",
        "colab_type": "text"
      },
      "cell_type": "markdown",
      "source": [
        "#Title ?\n"
      ]
    },
    {
      "metadata": {
        "id": "h1GuTp-5m325",
        "colab_type": "text"
      },
      "cell_type": "markdown",
      "source": [
        "**Import libraries:**\n",
        "\n",
        "we start importing **numpy**, a python library to work efficiently with tensors, folowed by **tensorflow** and  **sklearn**, the libraries that contain the toolkit for work with data and networks.\n",
        "**Matplotlib** for display data and in the end **deepchem** that contain the tox21 dataset.\n",
        "\n",
        "**Tox21**, is a unique collaboration between several federal agencies to develop new ways to rapidly test whether substances adversely affect human health. This dataset consists of a set of 10,000 molecules represented vectorially  tested for interaction with the androgen receptor.\n"
      ]
    },
    {
      "metadata": {
        "id": "UyXZ1Je7TL9T",
        "colab_type": "code",
        "colab": {}
      },
      "cell_type": "code",
      "source": [
        "import numpy as np\n",
        "np.random.seed(456)\n",
        "import  tensorflow as tf\n",
        "tf.set_random_seed(456)\n",
        "import matplotlib.pyplot as plt\n",
        "import deepchem as dc\n",
        "from sklearn.metrics import accuracy_score"
      ],
      "execution_count": 0,
      "outputs": []
    },
    {
      "metadata": {
        "id": "MHTx4slHfmtK",
        "colab_type": "text"
      },
      "cell_type": "markdown",
      "source": [
        ""
      ]
    },
    {
      "metadata": {
        "id": "bWFBDvA3mzxl",
        "colab_type": "code",
        "colab": {}
      },
      "cell_type": "code",
      "source": [
        ""
      ],
      "execution_count": 0,
      "outputs": []
    }
  ]
}