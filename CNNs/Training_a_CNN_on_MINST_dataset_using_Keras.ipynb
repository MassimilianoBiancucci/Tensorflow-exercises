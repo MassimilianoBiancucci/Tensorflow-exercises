{
  "nbformat": 4,
  "nbformat_minor": 0,
  "metadata": {
    "colab": {
      "name": "Training a CNN on MINST dataset using Keras.ipynb",
      "version": "0.3.2",
      "provenance": [],
      "toc_visible": true,
      "include_colab_link": true
    },
    "kernelspec": {
      "name": "python3",
      "display_name": "Python 3"
    },
    "accelerator": "GPU"
  },
  "cells": [
    {
      "cell_type": "markdown",
      "metadata": {
        "id": "view-in-github",
        "colab_type": "text"
      },
      "source": [
        "<a href=\"https://colab.research.google.com/github/MassimilianoBiancucci/Tensorflow-exercises/blob/master/CNNs/Training_a_CNN_on_MINST_dataset_using_Keras.ipynb\" target=\"_parent\"><img src=\"https://colab.research.google.com/assets/colab-badge.svg\" alt=\"Open In Colab\"/></a>"
      ]
    },
    {
      "metadata": {
        "id": "wP7lFOpqUO_h",
        "colab_type": "text"
      },
      "cell_type": "markdown",
      "source": [
        "# Training a CNN on MINST dataset using Keras"
      ]
    },
    {
      "metadata": {
        "id": "GDF52VnCUG0x",
        "colab_type": "code",
        "colab": {}
      },
      "cell_type": "code",
      "source": [
        "import tensorflow as tf"
      ],
      "execution_count": 0,
      "outputs": []
    },
    {
      "metadata": {
        "id": "nWQ0Xs3-USDQ",
        "colab_type": "text"
      },
      "cell_type": "markdown",
      "source": [
        "Setting all necessary variables needed for training."
      ]
    },
    {
      "metadata": {
        "id": "Qf8CLLStUSbx",
        "colab_type": "code",
        "colab": {}
      },
      "cell_type": "code",
      "source": [
        "\n",
        "batch_size = 128 #number of examples per batch\n",
        "no_classes = 10 #number of output\n",
        "epochs = 50 #number of epochs\n",
        "image_height, image_width = 28, 28 #size of images in the dataset"
      ],
      "execution_count": 0,
      "outputs": []
    },
    {
      "metadata": {
        "id": "kh9q5RSEUU95",
        "colab_type": "text"
      },
      "cell_type": "markdown",
      "source": [
        "In this section is loaded and resized minst dataset from keras "
      ]
    },
    {
      "metadata": {
        "id": "J96Q2ITnUVVr",
        "colab_type": "code",
        "colab": {
          "base_uri": "https://localhost:8080/",
          "height": 51
        },
        "outputId": "0ca137a1-acd8-4fbe-f378-3fb2986e4e42"
      },
      "cell_type": "code",
      "source": [
        "#loading minst dataset\n",
        "(x_train, y_train), (x_test, y_test) = tf.keras.datasets.mnist.load_data()\n",
        "\n",
        "#resizing the images format, from 1D tensor to 2D tensor\n",
        "x_train = x_train.reshape(x_train.shape[0], image_height, image_width, 1)\n",
        "x_test = x_test.reshape(x_test.shape[0], image_height, image_width, 1)\n",
        "\n",
        "#declaring size of the net input\n",
        "input_shape = (image_height, image_width, 1)"
      ],
      "execution_count": 3,
      "outputs": [
        {
          "output_type": "stream",
          "text": [
            "Downloading data from https://storage.googleapis.com/tensorflow/tf-keras-datasets/mnist.npz\n",
            "11493376/11490434 [==============================] - 0s 0us/step\n"
          ],
          "name": "stdout"
        }
      ]
    },
    {
      "metadata": {
        "id": "Dr2LV2BJUV6Z",
        "colab_type": "text"
      },
      "cell_type": "markdown",
      "source": [
        "In this section we convert the dataset data format, from range (0..255) int type to range (0..1) float32 type"
      ]
    },
    {
      "metadata": {
        "id": "wSC7cKBlUWWD",
        "colab_type": "code",
        "colab": {}
      },
      "cell_type": "code",
      "source": [
        "#converting dataset data to float32 format\n",
        "x_train = x_train.astype('float32')\n",
        "x_test = x_test.astype('float32')\n",
        "\n",
        "#mapping the dataset data value between 0 and 1\n",
        "x_train /= 255\n",
        "x_test /= 255\n",
        "\n",
        "#Converts a class vector labels (integers) to binary class matrix.\n",
        "#es. ([7] -> [0, 0, 0, 0, 0, 0, 0, 1, 0, 0]), ([0] -> [1, 0, 0, 0, 0, 0, 0, 0, 0, 0]) \n",
        "y_train = tf.keras.utils.to_categorical(y_train, no_classes)\n",
        "y_test = tf.keras.utils.to_categorical(y_test, no_classes)"
      ],
      "execution_count": 0,
      "outputs": []
    },
    {
      "metadata": {
        "id": "jJbWUqdXUemP",
        "colab_type": "text"
      },
      "cell_type": "markdown",
      "source": [
        "In the section we declare a function to create rapidly a simple cnn "
      ]
    },
    {
      "metadata": {
        "id": "UJfhw-mkUe8M",
        "colab_type": "code",
        "colab": {}
      },
      "cell_type": "code",
      "source": [
        "def simple_cnn(input_shape):\n",
        "    model = tf.keras.models.Sequential() #init model\n",
        "    model.add(tf.keras.layers.Conv2D( #add conv layer\n",
        "        filters=64,\n",
        "        kernel_size=(3, 3),\n",
        "        activation='relu',\n",
        "        input_shape=input_shape\n",
        "    ))\n",
        "    model.add(tf.keras.layers.Conv2D( #add conv layer\n",
        "        filters=128,\n",
        "        kernel_size=(3, 3),\n",
        "        activation='relu'\n",
        "    ))\n",
        "    model.add(tf.keras.layers.MaxPooling2D(pool_size=(2, 2))) #pooling layer\n",
        "    model.add(tf.keras.layers.Dropout(rate=0.3)) #dropout\n",
        "    model.add(tf.keras.layers.Flatten()) # return the output of previus layer in 1 dimension\n",
        "    model.add(tf.keras.layers.Dense(units=1024, activation='relu')) #dense layer\n",
        "    model.add(tf.keras.layers.Dropout(rate=0.3)) #dropout\n",
        "    model.add(tf.keras.layers.Dense(units=no_classes, activation='softmax')) #output softmax layer\n",
        "    model.compile(loss=tf.keras.losses.categorical_crossentropy, #setting the optimizer and compile the model\n",
        "                  optimizer=tf.keras.optimizers.Adam(),\n",
        "                  metrics=['accuracy'])\n",
        "    return model"
      ],
      "execution_count": 0,
      "outputs": []
    },
    {
      "metadata": {
        "id": "fO0pU9XTUmt1",
        "colab_type": "text"
      },
      "cell_type": "markdown",
      "source": [
        "Now we can create a new net with just a command"
      ]
    },
    {
      "metadata": {
        "id": "4msCpWy4UnB5",
        "colab_type": "code",
        "colab": {}
      },
      "cell_type": "code",
      "source": [
        "simple_cnn_model = simple_cnn(input_shape)"
      ],
      "execution_count": 0,
      "outputs": []
    },
    {
      "metadata": {
        "id": "RKhuvCXrUpst",
        "colab_type": "text"
      },
      "cell_type": "markdown",
      "source": [
        "We are redy to train the model, with fit() method, we feed to the method the input images and labeles for the training and the test dataset."
      ]
    },
    {
      "metadata": {
        "id": "IQHB_58-UqGW",
        "colab_type": "code",
        "colab": {}
      },
      "cell_type": "code",
      "source": [
        "simple_cnn_model.fit(x_train, y_train, batch_size, epochs, (x_test, y_test))\n",
        "\n",
        "train_loss, train_accuracy = simple_cnn_model.evaluate(\n",
        "    x_train, y_train, verbose=0)\n",
        "print('Train data loss:', train_loss)\n",
        "print('Train data accuracy:', train_accuracy)"
      ],
      "execution_count": 0,
      "outputs": []
    },
    {
      "metadata": {
        "id": "QasBTnSiUuD7",
        "colab_type": "text"
      },
      "cell_type": "markdown",
      "source": [
        "now we can evaluate the result on the test dataset."
      ]
    },
    {
      "metadata": {
        "id": "cDxUNL0YUuYO",
        "colab_type": "code",
        "colab": {}
      },
      "cell_type": "code",
      "source": [
        "test_loss, test_accuracy = simple_cnn_model.evaluate(\n",
        "    x_test, y_test, verbose=0)\n",
        "print('Test data loss:', test_loss)\n",
        "print('Test data accuracy:', test_accuracy)"
      ],
      "execution_count": 0,
      "outputs": []
    }
  ]
}